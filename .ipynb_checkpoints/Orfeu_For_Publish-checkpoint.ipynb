{
 "cells": [
  {
   "cell_type": "markdown",
   "id": "a73d5ba7-6c0b-4d56-b1cd-5b05804a58e4",
   "metadata": {},
   "source": [
    "# Table of Contents\n",
    "\n",
    "[Finding Data](#Finding-Datasets) \n",
    "\n",
    "[Exploring Data](#Exploring-Datasets)\n",
    "\n",
    "[Cleaning](#Cleaning-Datasets)\n",
    "\n",
    "[Outputs](#Outputting)"
   ]
  },
  {
   "cell_type": "code",
   "execution_count": null,
   "id": "2d480b18-821f-4e3a-a5b4-bf8c2ce599db",
   "metadata": {},
   "outputs": [],
   "source": []
  },
  {
   "cell_type": "code",
   "execution_count": null,
   "id": "b04cc1fa-4a85-463e-b8fc-c737e509c937",
   "metadata": {},
   "outputs": [],
   "source": []
  },
  {
   "cell_type": "markdown",
   "id": "1d78bb5a-5d16-4db9-8068-8a7b4c3a765c",
   "metadata": {},
   "source": [
    "### Everynoise\n",
    "https://www.reddit.com/r/spotify/comments/4r3r1c/massive_dump_of_spotify_created_playlists_14k/"
   ]
  },
  {
   "cell_type": "code",
   "execution_count": null,
   "id": "d3beb8d3-e22c-4438-843a-f71a75a548f1",
   "metadata": {},
   "outputs": [],
   "source": []
  },
  {
   "cell_type": "code",
   "execution_count": null,
   "id": "9160a7f8-bbe6-4abc-9793-f33cbea7d395",
   "metadata": {},
   "outputs": [],
   "source": []
  },
  {
   "cell_type": "code",
   "execution_count": null,
   "id": "e4e84e9c-bf0a-40af-9b53-a43510ad3bf1",
   "metadata": {},
   "outputs": [],
   "source": []
  },
  {
   "cell_type": "code",
   "execution_count": null,
   "id": "8daf49a1-9e18-4c18-aacf-5d4c1531893d",
   "metadata": {},
   "outputs": [],
   "source": []
  },
  {
   "cell_type": "code",
   "execution_count": null,
   "id": "e94a5369-11d5-4a4f-aaef-ae98f9bcd784",
   "metadata": {},
   "outputs": [],
   "source": []
  },
  {
   "cell_type": "markdown",
   "id": "9f46bc10-4cf1-4a1e-8904-680bebf866cb",
   "metadata": {},
   "source": [
    "## APIs"
   ]
  },
  {
   "cell_type": "markdown",
   "id": "f6a685d8-2114-4972-b0aa-a3edd28e6417",
   "metadata": {},
   "source": []
  },
  {
   "cell_type": "code",
   "execution_count": null,
   "id": "380e897b-1a42-4022-8307-2ec835436732",
   "metadata": {},
   "outputs": [],
   "source": [
    "import pandas as pd\n",
    "\n",
    "# Path to your Excel file\n",
    "file_path = 'C:\\\\Users\\\\jerry\\\\Documents\\\\Ucla\\\\100 days of data\\\\Orpheus\\\\Spotify Playlist Dump.xlsx'\n",
    "\n",
    "\n",
    "# Read all sheets into a dictionary of dataframes\n",
    "all_sheets = pd.read_excel(file_path, sheet_name=None)\n",
    "\n",
    "# Accessing a specific sheet by name\n",
    "sheet1_df = all_sheets['The Sound']\n",
    "\n",
    "# Print the sheet names and the first few rows of each\n",
    "for sheet_name, df in all_sheets.items():\n",
    "    print(f\"Sheet name: {sheet_name}\")\n",
    "    print(df.head())"
   ]
  },
  {
   "cell_type": "code",
   "execution_count": null,
   "id": "9344575b-c4a9-4337-af04-304d034047ef",
   "metadata": {},
   "outputs": [],
   "source": []
  },
  {
   "cell_type": "code",
   "execution_count": null,
   "id": "9497ab60-576d-43c5-b6e7-18cc1375f650",
   "metadata": {},
   "outputs": [],
   "source": []
  },
  {
   "cell_type": "markdown",
   "id": "b6b82b30-fdff-489f-88ee-cf10b895e4d0",
   "metadata": {
    "jp-MarkdownHeadingCollapsed": true
   },
   "source": [
    "### MusixMatch\n",
    "https://developer.musixmatch.com"
   ]
  },
  {
   "cell_type": "code",
   "execution_count": null,
   "id": "ea99c129-65be-4f48-9ee6-91f6e95540e5",
   "metadata": {},
   "outputs": [],
   "source": [
    "# Example: Getting list of genres with description on Musixmatch Api\n",
    "\n",
    "import requests\n",
    "api_key = 'yourApiKey'\n",
    "\n",
    "# Define the endpoint URL\n",
    "url = 'https://api.musixmatch.com/ws/1.1/music.genres.get'\n",
    "\n",
    "# Define the parameters\n",
    "params = {\n",
    "    'apikey': api_key,\n",
    "    # Add other parameters as needed\n",
    "}\n",
    "\n",
    "# Send the request\n",
    "response = requests.get(url, params=params)\n",
    "\n",
    "# Check if the request was successful\n",
    "if response.status_code == 200:\n",
    "    # Parse the JSON response\n",
    "    musixMatchData = response.json()\n",
    "else:\n",
    "    print(f'Error: {response.status_code}')\n",
    "\n",
    "# Extracting the list of genres\n",
    "genres = musixMatchData['message']['body']['music_genre_list']\n",
    "\n",
    "# Creating a list of genre names\n",
    "musixMatch_genre_names = [genre['music_genre']['music_genre_name'] for genre in genres]\n",
    "\n",
    "# Counting the number of genres\n",
    "genre_count = len(musixMatch_genre_names)\n",
    "\n",
    "# Output the list and count\n",
    "print(\"List of Genres:\")\n",
    "print(musixMatch_genre_names)\n",
    "print(\"\\nCount of Genres:\")\n",
    "print(genre_count)\n",
    "\n",
    "musixMatch_genre_names = pd.Series(musixMatch_genre_names)\n",
    "musixMatch_genre_names.to_csv('musixMatchGenreList.csv', index=False, header=['Genre'])"
   ]
  },
  {
   "cell_type": "markdown",
   "id": "1474609d-bc72-47b2-8c57-ee9a123b3227",
   "metadata": {},
   "source": [
    "Extra work:\n",
    "\n",
    "- Normalize genre names and look for partial matching to connect genre names in a list to the musixMatch Api"
   ]
  },
  {
   "cell_type": "code",
   "execution_count": null,
   "id": "a8f0c13d-9474-436c-a8cf-095fa3a2dd52",
   "metadata": {},
   "outputs": [],
   "source": [
    "import re\n",
    "import unicodedata\n",
    "\n",
    "def normalize_string(s):\n",
    "    # Convert to lowercase, remove accents, and strip extra spaces\n",
    "    s = s.strip().lower()\n",
    "    s = unicodedata.normalize('NFKD', s)\n",
    "    s = ''.join(c for c in s if not unicodedata.combining(c))  # Remove accents\n",
    "    s = re.sub(r'\\s+', ' ', s)  # Replace multiple spaces with a single space\n",
    "    s = re.sub(r'-+', ' ', s)  # Replace multiple hyphens with a space\n",
    "    return s\n",
    "\n",
    "def is_substring(sub, string):\n",
    "    # Check if sub is a substring of string\n",
    "    return sub in string\n",
    "\n",
    "# Normalize the genre names\n",
    "thePulseOfNames_normalized = [normalize_string(name) for name in thePulseOfNames]\n",
    "musixMatch_genre_names_normalized = [normalize_string(name) for name in musixMatch_genre_names]\n",
    "\n",
    "# Create sets for normalized names\n",
    "thePulseOfNames_set = set(thePulseOfNames_normalized)\n",
    "musixMatch_genre_names_set = set(musixMatch_genre_names_normalized)\n",
    "\n",
    "# Find overlap with partial matching\n",
    "overlap = set()\n",
    "for pulse_name in thePulseOfNames_set:\n",
    "    if any(is_substring(pulse_name, match_name) or is_substring(match_name, pulse_name)\n",
    "           for match_name in musixMatch_genre_names_set):\n",
    "        overlap.add(pulse_name)\n",
    "\n",
    "# Find non-overlap in PulseOf\n",
    "non_overlap = thePulseOfNames_set - overlap\n",
    "non_overlap_count = len(non_overlap)"
   ]
  },
  {
   "cell_type": "markdown",
   "id": "eec62177-94ce-439f-bd69-ac9895bdf56d",
   "metadata": {
    "jp-MarkdownHeadingCollapsed": true
   },
   "source": [
    "### Wikipedia API"
   ]
  },
  {
   "cell_type": "code",
   "execution_count": null,
   "id": "09b2385d-f384-4edc-8e12-6d1dc7d8bf6e",
   "metadata": {},
   "outputs": [],
   "source": [
    "# !pip install wikipedia-api"
   ]
  },
  {
   "cell_type": "code",
   "execution_count": null,
   "id": "0029c06f-9583-4858-8093-54a0013c7b7e",
   "metadata": {},
   "outputs": [],
   "source": []
  },
  {
   "cell_type": "code",
   "execution_count": null,
   "id": "d323866b-adaa-4488-a96e-9417b5300569",
   "metadata": {},
   "outputs": [],
   "source": [
    "import requests\n",
    "import pandas as pd\n",
    "\n",
    "def check_wikipedia(name):\n",
    "    \"\"\"\n",
    "    Check if a Wikipedia page exists for the given name.\n",
    "    \"\"\"\n",
    "    url = f\"https://en.wikipedia.org/api/rest_v1/page/summary/{name}\"\n",
    "    response = requests.get(url)\n",
    "    \n",
    "    if response.status_code == 200:\n",
    "        data = response.json()\n",
    "        return 'extract' in data\n",
    "    return False\n",
    "\n",
    "def filter_names_with_wikipedia(df, column_name):\n",
    "    \"\"\"\n",
    "    Filter the DataFrame by checking if Wikipedia pages exist for names in the given column.\n",
    "    \"\"\"\n",
    "    initial_count = len(df)\n",
    "    names_to_delete = []\n",
    "\n",
    "    # Filter DataFrame rows\n",
    "    df_filtered = df[df[column_name].apply(lambda name: not check_wikipedia(name))]\n",
    "\n",
    "    # Track names without Wikipedia results\n",
    "    names_to_delete = df_filtered[column_name].tolist()\n",
    "\n",
    "    # Delete rows without Wikipedia results\n",
    "    df = df.drop(df_filtered.index)\n",
    "    \n",
    "    final_count = len(df)\n",
    "    deleted_count = initial_count - final_count\n",
    "\n",
    "    # Report how many were deleted and which ones\n",
    "    print(f\"Total names checked: {initial_count}\")\n",
    "    print(f\"Names deleted: {deleted_count}\")\n",
    "    print(\"Names without Wikipedia results:\", names_to_delete)\n",
    "\n",
    "    return df\n",
    "\n",
    "\n",
    "# Filter the DataFrame and get the cleaned version\n",
    "cleaned_df = filter_names_with_wikipedia(thePulseOfList.head(100), 0)\n",
    "print(\"\\n\")"
   ]
  },
  {
   "cell_type": "code",
   "execution_count": null,
   "id": "d63283bd-1567-4bd6-82f2-39f6940c10c3",
   "metadata": {},
   "outputs": [],
   "source": []
  },
  {
   "cell_type": "code",
   "execution_count": null,
   "id": "754e0306-5418-4962-8ba2-2c9842227ff8",
   "metadata": {},
   "outputs": [],
   "source": []
  },
  {
   "cell_type": "code",
   "execution_count": null,
   "id": "d5201b8f-7fac-4570-935a-92be2068294e",
   "metadata": {},
   "outputs": [],
   "source": []
  },
  {
   "cell_type": "code",
   "execution_count": null,
   "id": "9fe16f3a-37b3-412f-9b9e-2bfce4272aa2",
   "metadata": {},
   "outputs": [],
   "source": []
  },
  {
   "cell_type": "code",
   "execution_count": null,
   "id": "37ebba5c-e64a-4c83-b073-55cbcff5de81",
   "metadata": {},
   "outputs": [],
   "source": []
  },
  {
   "cell_type": "code",
   "execution_count": null,
   "id": "f27133d3-9689-4920-ba83-277a0c84bfe4",
   "metadata": {},
   "outputs": [],
   "source": []
  },
  {
   "cell_type": "code",
   "execution_count": null,
   "id": "2f6fbea8-9932-4a38-a481-662bf8d48487",
   "metadata": {},
   "outputs": [],
   "source": []
  },
  {
   "cell_type": "code",
   "execution_count": null,
   "id": "91372d80-355b-4b0b-ad97-e686b8ac57ef",
   "metadata": {},
   "outputs": [],
   "source": []
  },
  {
   "cell_type": "code",
   "execution_count": null,
   "id": "cc83ecee-6104-40d2-9b52-3c35687b211f",
   "metadata": {},
   "outputs": [],
   "source": []
  },
  {
   "cell_type": "code",
   "execution_count": null,
   "id": "1498a949-05e3-462c-8a41-6d5852ad5d39",
   "metadata": {},
   "outputs": [],
   "source": []
  },
  {
   "cell_type": "code",
   "execution_count": null,
   "id": "8889f821-47d4-4b79-af19-9aa71383cd24",
   "metadata": {},
   "outputs": [],
   "source": []
  },
  {
   "cell_type": "code",
   "execution_count": null,
   "id": "e70dc0df-1d04-4b5e-bf6f-d7f27081a9c7",
   "metadata": {},
   "outputs": [],
   "source": []
  },
  {
   "cell_type": "code",
   "execution_count": null,
   "id": "38916df7-873d-44e1-88a6-4945847c3f0f",
   "metadata": {},
   "outputs": [],
   "source": []
  },
  {
   "cell_type": "markdown",
   "id": "42d1d5c5-7ad5-44b5-b5f3-14b60d510ac4",
   "metadata": {},
   "source": [
    "# Finding Datasets"
   ]
  },
  {
   "cell_type": "code",
   "execution_count": null,
   "id": "41eeac98-666c-47ec-9a9c-8215d6440f45",
   "metadata": {},
   "outputs": [],
   "source": []
  },
  {
   "cell_type": "code",
   "execution_count": null,
   "id": "c54bf769-af06-4003-b203-11987ac935bc",
   "metadata": {},
   "outputs": [],
   "source": []
  },
  {
   "cell_type": "code",
   "execution_count": null,
   "id": "9977f1b2-f71b-4706-97c4-c27fda911a0a",
   "metadata": {},
   "outputs": [],
   "source": []
  },
  {
   "cell_type": "markdown",
   "id": "fd5ecd81-a154-46d5-acb2-3b2b55e5c375",
   "metadata": {},
   "source": [
    "# Exploring Datasets"
   ]
  },
  {
   "cell_type": "code",
   "execution_count": null,
   "id": "e7bb2170-fa80-4858-8da1-5a7048230321",
   "metadata": {},
   "outputs": [],
   "source": []
  },
  {
   "cell_type": "code",
   "execution_count": null,
   "id": "1b4096cb-3112-42b8-85e0-b6d33f6ec0a3",
   "metadata": {},
   "outputs": [],
   "source": []
  },
  {
   "cell_type": "markdown",
   "id": "de37bf64-47aa-46ec-b73c-aea9bd02b859",
   "metadata": {},
   "source": [
    "# Cleaning Datasets"
   ]
  },
  {
   "cell_type": "code",
   "execution_count": null,
   "id": "4c82d572-3707-4b9a-bd41-dcac5be7d10d",
   "metadata": {},
   "outputs": [],
   "source": []
  },
  {
   "cell_type": "code",
   "execution_count": null,
   "id": "64df6838-a6fc-43c9-8170-3d60009c0054",
   "metadata": {},
   "outputs": [],
   "source": []
  },
  {
   "cell_type": "markdown",
   "id": "56018d85-42f0-4553-9404-3f781c2db59b",
   "metadata": {},
   "source": [
    "# Outputting"
   ]
  },
  {
   "cell_type": "code",
   "execution_count": null,
   "id": "87cdcacf-b5c2-4344-8ccc-aeea96d398d0",
   "metadata": {},
   "outputs": [],
   "source": []
  },
  {
   "cell_type": "code",
   "execution_count": null,
   "id": "8b6975da-d534-4040-9deb-215125da7d5e",
   "metadata": {},
   "outputs": [],
   "source": []
  },
  {
   "cell_type": "code",
   "execution_count": null,
   "id": "61b8de74-1dcc-4db2-9ad9-444a4d51da7b",
   "metadata": {},
   "outputs": [],
   "source": []
  }
 ],
 "metadata": {
  "kernelspec": {
   "display_name": "Python 3 (ipykernel)",
   "language": "python",
   "name": "python3"
  },
  "language_info": {
   "codemirror_mode": {
    "name": "ipython",
    "version": 3
   },
   "file_extension": ".py",
   "mimetype": "text/x-python",
   "name": "python",
   "nbconvert_exporter": "python",
   "pygments_lexer": "ipython3",
   "version": "3.9.18"
  }
 },
 "nbformat": 4,
 "nbformat_minor": 5
}
